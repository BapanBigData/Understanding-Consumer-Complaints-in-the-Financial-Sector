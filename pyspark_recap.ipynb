{
 "cells": [
  {
   "cell_type": "code",
   "execution_count": 1,
   "metadata": {},
   "outputs": [],
   "source": [
    "import pyspark\n",
    "from pyspark.sql import SparkSession\n",
    "\n",
    "from pyspark.sql.types import *\n",
    "from pyspark.sql.functions import *\n",
    "\n",
    "from datetime import datetime"
   ]
  },
  {
   "cell_type": "code",
   "execution_count": 2,
   "metadata": {},
   "outputs": [
    {
     "name": "stdout",
     "output_type": "stream",
     "text": [
      "Pyspark Version: 3.5.2\n",
      "Spark Session created successfully!\n"
     ]
    }
   ],
   "source": [
    "print(f\"Pyspark Version: {pyspark.__version__}\")\n",
    "\n",
    "# create a spark session\n",
    "spark = SparkSession.builder \\\n",
    "        .appName(\"testApp\") \\\n",
    "        .config(\"spark.executor.memory\", \"2g\") \\\n",
    "        .config(\"spark.driver.memory\", \"1g\") \\\n",
    "        .config(\"spark.master\", \"local[*]\") \\\n",
    "        .getOrCreate()\n",
    "\n",
    "# check if the spark session created successfully\n",
    "print(\"Spark Session created successfully!\")"
   ]
  },
  {
   "cell_type": "code",
   "execution_count": 3,
   "metadata": {},
   "outputs": [
    {
     "data": {
      "text/html": [
       "\n",
       "            <div>\n",
       "                <p><b>SparkSession - in-memory</b></p>\n",
       "                \n",
       "        <div>\n",
       "            <p><b>SparkContext</b></p>\n",
       "\n",
       "            <p><a href=\"http://DESKTOP-1G0D7HE:4040\">Spark UI</a></p>\n",
       "\n",
       "            <dl>\n",
       "              <dt>Version</dt>\n",
       "                <dd><code>v3.5.2</code></dd>\n",
       "              <dt>Master</dt>\n",
       "                <dd><code>local[*]</code></dd>\n",
       "              <dt>AppName</dt>\n",
       "                <dd><code>testApp</code></dd>\n",
       "            </dl>\n",
       "        </div>\n",
       "        \n",
       "            </div>\n",
       "        "
      ],
      "text/plain": [
       "<pyspark.sql.session.SparkSession at 0x214b2c22a10>"
      ]
     },
     "execution_count": 3,
     "metadata": {},
     "output_type": "execute_result"
    }
   ],
   "source": [
    "spark"
   ]
  },
  {
   "cell_type": "code",
   "execution_count": 4,
   "metadata": {},
   "outputs": [],
   "source": [
    "#1. problem\n",
    "\n",
    "data = [\n",
    "    [\"Product A\", 1001, datetime.strptime(\"2023-07-20\", \"%Y-%m-%d\"), datetime.strptime(\"2023-07-20 10:15:30\", \"%Y-%m-%d %H:%M:%S\"), 29.99],\n",
    "    [\"Product B\", 1002, datetime.strptime(\"2023-07-19\", \"%Y-%m-%d\"), datetime.strptime(\"2023-07-19 14:20:45\", \"%Y-%m-%d %H:%M:%S\"), 49.99],\n",
    "    [\"Product C\", 1003, datetime.strptime(\"2023-07-18\", \"%Y-%m-%d\"), datetime.strptime(\"2023-07-18 09:30:15\", \"%Y-%m-%d %H:%M:%S\"), 39.99],\n",
    "    [\"Product D\", 1004, datetime.strptime(\"2023-07-17\", \"%Y-%m-%d\"), datetime.strptime(\"2023-07-17 14:45:00\", \"%Y-%m-%d %H:%M:%S\"), 19.99],\n",
    "    [\"Product E\", 1005, datetime.strptime(\"2023-07-20\", \"%Y-%m-%d\"), datetime.strptime(\"2023-07-20 11:15:30\", \"%Y-%m-%d %H:%M:%S\"), 24.99],\n",
    "    [\"Product F\", 1006, datetime.strptime(\"2023-07-19\", \"%Y-%m-%d\"), datetime.strptime(\"2023-07-19 16:00:00\", \"%Y-%m-%d %H:%M:%S\"), 59.99],\n",
    "    [\"Product G\", 1007, datetime.strptime(\"2023-07-18\", \"%Y-%m-%d\"), datetime.strptime(\"2023-07-18 12:30:00\", \"%Y-%m-%d %H:%M:%S\"), 34.99],\n",
    "    [\"Product H\", 1008, datetime.strptime(\"2023-07-17\", \"%Y-%m-%d\"), datetime.strptime(\"2023-07-17 09:00:00\", \"%Y-%m-%d %H:%M:%S\"), 44.99],\n",
    "    [\"Product I\", 1009, datetime.strptime(\"2023-07-20\", \"%Y-%m-%d\"), datetime.strptime(\"2023-07-20 13:15:30\", \"%Y-%m-%d %H:%M:%S\"), 69.99],\n",
    "    [\"Product J\", 1010, datetime.strptime(\"2023-07-19\", \"%Y-%m-%d\"), datetime.strptime(\"2023-07-19 15:00:00\", \"%Y-%m-%d %H:%M:%S\"), 49.49],\n",
    "    [\"Product K\", 1011, datetime.strptime(\"2023-07-18\", \"%Y-%m-%d\"), datetime.strptime(\"2023-07-18 08:30:15\", \"%Y-%m-%d %H:%M:%S\"), 55.99],\n",
    "    [\"Product L\", 1012, datetime.strptime(\"2023-07-17\", \"%Y-%m-%d\"), datetime.strptime(\"2023-07-17 10:30:00\", \"%Y-%m-%d %H:%M:%S\"), 64.99]\n",
    "]\n",
    "\n",
    "# let's define the schema\n",
    "schema = StructType([\n",
    "    StructField(\"Product\", StringType(), True),\n",
    "    StructField(\"ID\", IntegerType(), True),\n",
    "    StructField(\"Date\", DateType(), True),\n",
    "    StructField(\"Timestamp\", TimestampType(), True),\n",
    "    StructField(\"Price\", FloatType(), True)\n",
    "])\n",
    "\n",
    "# let's create the dataframe\n",
    "df = spark.createDataFrame(data, schema)"
   ]
  },
  {
   "cell_type": "code",
   "execution_count": 5,
   "metadata": {},
   "outputs": [
    {
     "name": "stdout",
     "output_type": "stream",
     "text": [
      "root\n",
      " |-- Product: string (nullable = true)\n",
      " |-- ID: integer (nullable = true)\n",
      " |-- Date: date (nullable = true)\n",
      " |-- Timestamp: timestamp (nullable = true)\n",
      " |-- Price: float (nullable = true)\n",
      "\n"
     ]
    }
   ],
   "source": [
    "# print the df schema\n",
    "df.printSchema()"
   ]
  },
  {
   "cell_type": "code",
   "execution_count": 6,
   "metadata": {},
   "outputs": [
    {
     "name": "stdout",
     "output_type": "stream",
     "text": [
      "+---------+----+----------+-------------------+-----+\n",
      "|  Product|  ID|      Date|          Timestamp|Price|\n",
      "+---------+----+----------+-------------------+-----+\n",
      "|Product A|1001|2023-07-20|2023-07-20 10:15:30|29.99|\n",
      "|Product B|1002|2023-07-19|2023-07-19 14:20:45|49.99|\n",
      "|Product C|1003|2023-07-18|2023-07-18 09:30:15|39.99|\n",
      "|Product D|1004|2023-07-17|2023-07-17 14:45:00|19.99|\n",
      "|Product E|1005|2023-07-20|2023-07-20 11:15:30|24.99|\n",
      "|Product F|1006|2023-07-19|2023-07-19 16:00:00|59.99|\n",
      "|Product G|1007|2023-07-18|2023-07-18 12:30:00|34.99|\n",
      "|Product H|1008|2023-07-17|2023-07-17 09:00:00|44.99|\n",
      "|Product I|1009|2023-07-20|2023-07-20 13:15:30|69.99|\n",
      "|Product J|1010|2023-07-19|2023-07-19 15:00:00|49.49|\n",
      "|Product K|1011|2023-07-18|2023-07-18 08:30:15|55.99|\n",
      "|Product L|1012|2023-07-17|2023-07-17 10:30:00|64.99|\n",
      "+---------+----+----------+-------------------+-----+\n",
      "\n"
     ]
    }
   ],
   "source": [
    "df.show()"
   ]
  },
  {
   "cell_type": "code",
   "execution_count": 20,
   "metadata": {},
   "outputs": [
    {
     "name": "stdout",
     "output_type": "stream",
     "text": [
      "+---------+\n",
      "|min_price|\n",
      "+---------+\n",
      "|    19.99|\n",
      "+---------+\n",
      "\n"
     ]
    }
   ],
   "source": [
    "# fetch the minimum price from the dataframe \n",
    "df.select(min(df.Price).alias(\"min_price\")).show()"
   ]
  },
  {
   "cell_type": "code",
   "execution_count": null,
   "metadata": {},
   "outputs": [],
   "source": []
  },
  {
   "cell_type": "markdown",
   "metadata": {},
   "source": [
    "##### **Easy**\n",
    "1. Select all products and their prices - Display only the Product and Price columns from the DataFrame.\n",
    "\n",
    "2. Filter products with a price greater than $30 - Filter the DataFrame to show only rows where Price is greater than 30.\n",
    "\n",
    "3. Count the number of products with a price less than $40 - Count how many products have a Price less than 40.\n",
    "\n",
    "##### **Medium**\n",
    "4. Sort products by price in descending order - Sort the DataFrame by the Price column in descending order.\n",
    "\n",
    "5. Get the product with the maximum price - Retrieve the row with the highest Price value.\n",
    "\n",
    "6. Calculate the average price of all products - Use aggregation to compute the average Price of the products.\n",
    "\n",
    "7. Extract the hour from the timestamp - Add a new column that extracts and displays the hour from the Timestamp column.\n",
    "\n",
    "##### **Hard**\n",
    "8. Group products by date and calculate the average price for each date - Group by the Date column and calculate the average Price for each unique date.\n",
    "\n",
    "9. Find the minimum and maximum price on each date and alias the columns as min_price and max_price - For each unique date, find both the minimum and maximum prices, with appropriate aliases.\n",
    "\n",
    "10. Identify products priced above the average price and sort by price in ascending order - First, find the average price, then filter the products priced above that average and sort the results in ascending order."
   ]
  },
  {
   "cell_type": "code",
   "execution_count": 21,
   "metadata": {},
   "outputs": [
    {
     "name": "stdout",
     "output_type": "stream",
     "text": [
      "+---------+-----+\n",
      "|  Product|Price|\n",
      "+---------+-----+\n",
      "|Product A|29.99|\n",
      "|Product B|49.99|\n",
      "|Product C|39.99|\n",
      "|Product D|19.99|\n",
      "|Product E|24.99|\n",
      "|Product F|59.99|\n",
      "|Product G|34.99|\n",
      "|Product H|44.99|\n",
      "|Product I|69.99|\n",
      "|Product J|49.49|\n",
      "|Product K|55.99|\n",
      "|Product L|64.99|\n",
      "+---------+-----+\n",
      "\n"
     ]
    }
   ],
   "source": [
    "# 1.\n",
    "\n",
    "df.select(df.Product, df.Price).show()"
   ]
  },
  {
   "cell_type": "code",
   "execution_count": 24,
   "metadata": {},
   "outputs": [
    {
     "name": "stdout",
     "output_type": "stream",
     "text": [
      "+---------+----+----------+-------------------+-----+\n",
      "|  Product|  ID|      Date|          Timestamp|Price|\n",
      "+---------+----+----------+-------------------+-----+\n",
      "|Product B|1002|2023-07-19|2023-07-19 14:20:45|49.99|\n",
      "|Product C|1003|2023-07-18|2023-07-18 09:30:15|39.99|\n",
      "|Product F|1006|2023-07-19|2023-07-19 16:00:00|59.99|\n",
      "|Product G|1007|2023-07-18|2023-07-18 12:30:00|34.99|\n",
      "|Product H|1008|2023-07-17|2023-07-17 09:00:00|44.99|\n",
      "|Product I|1009|2023-07-20|2023-07-20 13:15:30|69.99|\n",
      "|Product J|1010|2023-07-19|2023-07-19 15:00:00|49.49|\n",
      "|Product K|1011|2023-07-18|2023-07-18 08:30:15|55.99|\n",
      "|Product L|1012|2023-07-17|2023-07-17 10:30:00|64.99|\n",
      "+---------+----+----------+-------------------+-----+\n",
      "\n"
     ]
    }
   ],
   "source": [
    "# 2.\n",
    "\n",
    "df.filter(df.Price > 30.0).show()"
   ]
  },
  {
   "cell_type": "code",
   "execution_count": 25,
   "metadata": {},
   "outputs": [
    {
     "name": "stdout",
     "output_type": "stream",
     "text": [
      "+---------+----+----------+-------------------+-----+\n",
      "|  Product|  ID|      Date|          Timestamp|Price|\n",
      "+---------+----+----------+-------------------+-----+\n",
      "|Product B|1002|2023-07-19|2023-07-19 14:20:45|49.99|\n",
      "|Product C|1003|2023-07-18|2023-07-18 09:30:15|39.99|\n",
      "|Product F|1006|2023-07-19|2023-07-19 16:00:00|59.99|\n",
      "|Product G|1007|2023-07-18|2023-07-18 12:30:00|34.99|\n",
      "|Product H|1008|2023-07-17|2023-07-17 09:00:00|44.99|\n",
      "|Product I|1009|2023-07-20|2023-07-20 13:15:30|69.99|\n",
      "|Product J|1010|2023-07-19|2023-07-19 15:00:00|49.49|\n",
      "|Product K|1011|2023-07-18|2023-07-18 08:30:15|55.99|\n",
      "|Product L|1012|2023-07-17|2023-07-17 10:30:00|64.99|\n",
      "+---------+----+----------+-------------------+-----+\n",
      "\n"
     ]
    }
   ],
   "source": [
    "# 2.\n",
    "\n",
    "df.where(df.Price > 30.0).show()"
   ]
  },
  {
   "cell_type": "code",
   "execution_count": 27,
   "metadata": {},
   "outputs": [
    {
     "data": {
      "text/plain": [
       "5"
      ]
     },
     "execution_count": 27,
     "metadata": {},
     "output_type": "execute_result"
    }
   ],
   "source": [
    "# 3.\n",
    "\n",
    "df.filter(df.Price < 40.0).count()"
   ]
  },
  {
   "cell_type": "code",
   "execution_count": 29,
   "metadata": {},
   "outputs": [
    {
     "name": "stdout",
     "output_type": "stream",
     "text": [
      "+---------+----+----------+-------------------+-----+\n",
      "|  Product|  ID|      Date|          Timestamp|Price|\n",
      "+---------+----+----------+-------------------+-----+\n",
      "|Product I|1009|2023-07-20|2023-07-20 13:15:30|69.99|\n",
      "|Product L|1012|2023-07-17|2023-07-17 10:30:00|64.99|\n",
      "|Product F|1006|2023-07-19|2023-07-19 16:00:00|59.99|\n",
      "|Product K|1011|2023-07-18|2023-07-18 08:30:15|55.99|\n",
      "|Product B|1002|2023-07-19|2023-07-19 14:20:45|49.99|\n",
      "|Product J|1010|2023-07-19|2023-07-19 15:00:00|49.49|\n",
      "|Product H|1008|2023-07-17|2023-07-17 09:00:00|44.99|\n",
      "|Product C|1003|2023-07-18|2023-07-18 09:30:15|39.99|\n",
      "|Product G|1007|2023-07-18|2023-07-18 12:30:00|34.99|\n",
      "|Product A|1001|2023-07-20|2023-07-20 10:15:30|29.99|\n",
      "|Product E|1005|2023-07-20|2023-07-20 11:15:30|24.99|\n",
      "|Product D|1004|2023-07-17|2023-07-17 14:45:00|19.99|\n",
      "+---------+----+----------+-------------------+-----+\n",
      "\n"
     ]
    }
   ],
   "source": [
    "# 4.\n",
    "\n",
    "df.sort(desc(df.Price)).show()"
   ]
  },
  {
   "cell_type": "code",
   "execution_count": 30,
   "metadata": {},
   "outputs": [
    {
     "name": "stdout",
     "output_type": "stream",
     "text": [
      "+---------+----+----------+-------------------+-----+\n",
      "|  Product|  ID|      Date|          Timestamp|Price|\n",
      "+---------+----+----------+-------------------+-----+\n",
      "|Product I|1009|2023-07-20|2023-07-20 13:15:30|69.99|\n",
      "|Product L|1012|2023-07-17|2023-07-17 10:30:00|64.99|\n",
      "|Product F|1006|2023-07-19|2023-07-19 16:00:00|59.99|\n",
      "|Product K|1011|2023-07-18|2023-07-18 08:30:15|55.99|\n",
      "|Product B|1002|2023-07-19|2023-07-19 14:20:45|49.99|\n",
      "|Product J|1010|2023-07-19|2023-07-19 15:00:00|49.49|\n",
      "|Product H|1008|2023-07-17|2023-07-17 09:00:00|44.99|\n",
      "|Product C|1003|2023-07-18|2023-07-18 09:30:15|39.99|\n",
      "|Product G|1007|2023-07-18|2023-07-18 12:30:00|34.99|\n",
      "|Product A|1001|2023-07-20|2023-07-20 10:15:30|29.99|\n",
      "|Product E|1005|2023-07-20|2023-07-20 11:15:30|24.99|\n",
      "|Product D|1004|2023-07-17|2023-07-17 14:45:00|19.99|\n",
      "+---------+----+----------+-------------------+-----+\n",
      "\n"
     ]
    }
   ],
   "source": [
    "# 4.\n",
    "\n",
    "df.orderBy(desc(\"Price\")).show()"
   ]
  },
  {
   "cell_type": "code",
   "execution_count": 37,
   "metadata": {},
   "outputs": [
    {
     "data": {
      "text/plain": [
       "69.98999786376953"
      ]
     },
     "execution_count": 37,
     "metadata": {},
     "output_type": "execute_result"
    }
   ],
   "source": [
    "# 5.\n",
    "\n",
    "max_price = df.select(max(\"Price\")).collect()[0][0]\n",
    "max_price"
   ]
  },
  {
   "cell_type": "code",
   "execution_count": 38,
   "metadata": {},
   "outputs": [
    {
     "name": "stdout",
     "output_type": "stream",
     "text": [
      "+---------+----+----------+-------------------+-----+\n",
      "|  Product|  ID|      Date|          Timestamp|Price|\n",
      "+---------+----+----------+-------------------+-----+\n",
      "|Product I|1009|2023-07-20|2023-07-20 13:15:30|69.99|\n",
      "+---------+----+----------+-------------------+-----+\n",
      "\n"
     ]
    }
   ],
   "source": [
    "df.filter(df.Price == max_price).show()"
   ]
  },
  {
   "cell_type": "code",
   "execution_count": 40,
   "metadata": {},
   "outputs": [
    {
     "name": "stdout",
     "output_type": "stream",
     "text": [
      "+-------------+\n",
      "|average_price|\n",
      "+-------------+\n",
      "|      45.4483|\n",
      "+-------------+\n",
      "\n"
     ]
    }
   ],
   "source": [
    "# 6.\n",
    "\n",
    "df.agg(round(avg(\"Price\"), 4).alias(\"average_price\")).show()"
   ]
  },
  {
   "cell_type": "code",
   "execution_count": 7,
   "metadata": {},
   "outputs": [
    {
     "name": "stdout",
     "output_type": "stream",
     "text": [
      "+---------+----+----------+-------------------+-----+----+\n",
      "|  Product|  ID|      Date|          Timestamp|Price|Hour|\n",
      "+---------+----+----------+-------------------+-----+----+\n",
      "|Product A|1001|2023-07-20|2023-07-20 10:15:30|29.99|  10|\n",
      "|Product B|1002|2023-07-19|2023-07-19 14:20:45|49.99|  14|\n",
      "|Product C|1003|2023-07-18|2023-07-18 09:30:15|39.99|   9|\n",
      "|Product D|1004|2023-07-17|2023-07-17 14:45:00|19.99|  14|\n",
      "|Product E|1005|2023-07-20|2023-07-20 11:15:30|24.99|  11|\n",
      "|Product F|1006|2023-07-19|2023-07-19 16:00:00|59.99|  16|\n",
      "|Product G|1007|2023-07-18|2023-07-18 12:30:00|34.99|  12|\n",
      "|Product H|1008|2023-07-17|2023-07-17 09:00:00|44.99|   9|\n",
      "|Product I|1009|2023-07-20|2023-07-20 13:15:30|69.99|  13|\n",
      "|Product J|1010|2023-07-19|2023-07-19 15:00:00|49.49|  15|\n",
      "|Product K|1011|2023-07-18|2023-07-18 08:30:15|55.99|   8|\n",
      "|Product L|1012|2023-07-17|2023-07-17 10:30:00|64.99|  10|\n",
      "+---------+----+----------+-------------------+-----+----+\n",
      "\n"
     ]
    }
   ],
   "source": [
    "# 7.\n",
    "\n",
    "df = df.withColumn(\"Hour\", hour(df.Timestamp))\n",
    "df.show()"
   ]
  },
  {
   "cell_type": "code",
   "execution_count": 47,
   "metadata": {},
   "outputs": [
    {
     "name": "stdout",
     "output_type": "stream",
     "text": [
      "+----------+---------+\n",
      "|      Date|Avg_price|\n",
      "+----------+---------+\n",
      "|2023-07-20|  41.6567|\n",
      "|2023-07-19|  53.1567|\n",
      "|2023-07-18|  43.6567|\n",
      "|2023-07-17|  43.3233|\n",
      "+----------+---------+\n",
      "\n"
     ]
    }
   ],
   "source": [
    "# 8.\n",
    "\n",
    "df.groupBy(\"Date\").agg(round(avg(\"Price\"), 4).alias(\"Avg_price\")).show()"
   ]
  },
  {
   "cell_type": "code",
   "execution_count": 49,
   "metadata": {},
   "outputs": [
    {
     "name": "stdout",
     "output_type": "stream",
     "text": [
      "+----------+---------+---------+\n",
      "|      Date|max_price|min_price|\n",
      "+----------+---------+---------+\n",
      "|2023-07-20|    69.99|    24.99|\n",
      "|2023-07-19|    59.99|    49.49|\n",
      "|2023-07-18|    55.99|    34.99|\n",
      "|2023-07-17|    64.99|    19.99|\n",
      "+----------+---------+---------+\n",
      "\n"
     ]
    }
   ],
   "source": [
    "# 9. \n",
    "\n",
    "df.groupBy(\"Date\").agg(max(\"Price\").alias(\"max_price\"), min(\"Price\").alias(\"min_price\")).show()"
   ]
  },
  {
   "cell_type": "code",
   "execution_count": 52,
   "metadata": {},
   "outputs": [
    {
     "name": "stdout",
     "output_type": "stream",
     "text": [
      "+---------+----+----------+-------------------+-----+\n",
      "|  Product|  ID|      Date|          Timestamp|Price|\n",
      "+---------+----+----------+-------------------+-----+\n",
      "|Product J|1010|2023-07-19|2023-07-19 15:00:00|49.49|\n",
      "|Product B|1002|2023-07-19|2023-07-19 14:20:45|49.99|\n",
      "|Product K|1011|2023-07-18|2023-07-18 08:30:15|55.99|\n",
      "|Product F|1006|2023-07-19|2023-07-19 16:00:00|59.99|\n",
      "|Product L|1012|2023-07-17|2023-07-17 10:30:00|64.99|\n",
      "|Product I|1009|2023-07-20|2023-07-20 13:15:30|69.99|\n",
      "+---------+----+----------+-------------------+-----+\n",
      "\n"
     ]
    }
   ],
   "source": [
    "# 10.\n",
    "\n",
    "avg_price = df.agg(avg(df.Price)).collect()[0][0]\n",
    "\n",
    "df.filter(df.Price > avg_price).sort(asc(\"Price\")).show()"
   ]
  },
  {
   "cell_type": "code",
   "execution_count": null,
   "metadata": {},
   "outputs": [],
   "source": []
  },
  {
   "cell_type": "markdown",
   "metadata": {},
   "source": [
    "##### **Advanced Queries with Window Functions:**\n",
    "1. Calculate a rolling average price of products over the last 2 entries for each date\n",
    "* Use a window to calculate a rolling average for each product based on the previous 2 records within the same Date.\n",
    "\n",
    "2. Find the difference between each product’s price and the maximum price on that date\n",
    "* For each row, calculate the difference between the Price and the maximum Price within the same Date partition.\n",
    "\n",
    "3. Calculate cumulative sum and cumulative average of prices per date\n",
    "* Use a window to create columns for the cumulative sum and cumulative average of Price for each Date.\n",
    "\n",
    "4. Rank products by price within each date\n",
    "* Use the rank function to rank products by their Price for each Date partition.\n",
    "\n",
    "5. Identify products whose price is above the 75th percentile for that date\n",
    "* Calculate the 75th percentile of prices per date, then filter products with prices above this percentile.\n",
    "\n",
    "##### **Additional Complex Queries:**\n",
    "6. Calculate the percentage change in price from the previous product by timestamp\n",
    "* For each product entry, calculate the percentage change in Price compared to the previous entry, ordered by Timestamp.\n",
    "\n",
    "7. Calculate a 3-day rolling average and standard deviation of prices\n",
    "* For each date, calculate the rolling average and standard deviation of Price over a 3-day window (including the current and previous two days).\n",
    "\n",
    "8. Find products with prices above the average price for that week\n",
    "* Using a week-based window, calculate the weekly average Price and filter products priced above this average.\n",
    "\n",
    "9. Calculate the day-over-day growth in price per product\n",
    "* For each product and each date, calculate the difference in Price from the previous day’s Price.\n",
    "\n",
    "10. Count of products per date where the price is within one standard deviation of the average price\n",
    "* Calculate the average and standard deviation of Price for each date, then count products within one standard deviation of the mean."
   ]
  },
  {
   "cell_type": "code",
   "execution_count": 9,
   "metadata": {},
   "outputs": [],
   "source": [
    "# Expanded data for complex queries with variety in dates, timestamps, and prices\n",
    "data = [\n",
    "    [\"Product A\", 1001, datetime.strptime(\"2023-07-20\", \"%Y-%m-%d\"), datetime.strptime(\"2023-07-20 10:15:30\", \"%Y-%m-%d %H:%M:%S\"), 29.99],\n",
    "    [\"Product B\", 1002, datetime.strptime(\"2023-07-19\", \"%Y-%m-%d\"), datetime.strptime(\"2023-07-19 14:20:45\", \"%Y-%m-%d %H:%M:%S\"), 49.99],\n",
    "    [\"Product C\", 1003, datetime.strptime(\"2023-07-18\", \"%Y-%m-%d\"), datetime.strptime(\"2023-07-18 09:30:15\", \"%Y-%m-%d %H:%M:%S\"), 39.99],\n",
    "    [\"Product D\", 1004, datetime.strptime(\"2023-07-17\", \"%Y-%m-%d\"), datetime.strptime(\"2023-07-17 14:45:00\", \"%Y-%m-%d %H:%M:%S\"), 19.99],\n",
    "    [\"Product E\", 1005, datetime.strptime(\"2023-07-20\", \"%Y-%m-%d\"), datetime.strptime(\"2023-07-20 11:15:30\", \"%Y-%m-%d %H:%M:%S\"), 34.99],\n",
    "    [\"Product F\", 1006, datetime.strptime(\"2023-07-19\", \"%Y-%m-%d\"), datetime.strptime(\"2023-07-19 16:00:00\", \"%Y-%m-%d %H:%M:%S\"), 59.99],\n",
    "    [\"Product G\", 1007, datetime.strptime(\"2023-07-18\", \"%Y-%m-%d\"), datetime.strptime(\"2023-07-18 12:30:00\", \"%Y-%m-%d %H:%M:%S\"), 24.99],\n",
    "    [\"Product H\", 1008, datetime.strptime(\"2023-07-17\", \"%Y-%m-%d\"), datetime.strptime(\"2023-07-17 09:00:00\", \"%Y-%m-%d %H:%M:%S\"), 44.99],\n",
    "    [\"Product I\", 1009, datetime.strptime(\"2023-07-20\", \"%Y-%m-%d\"), datetime.strptime(\"2023-07-20 13:15:30\", \"%Y-%m-%d %H:%M:%S\"), 69.99],\n",
    "    [\"Product J\", 1010, datetime.strptime(\"2023-07-19\", \"%Y-%m-%d\"), datetime.strptime(\"2023-07-19 15:00:00\", \"%Y-%m-%d %H:%M:%S\"), 49.49],\n",
    "    [\"Product K\", 1011, datetime.strptime(\"2023-07-18\", \"%Y-%m-%d\"), datetime.strptime(\"2023-07-18 08:30:15\", \"%Y-%m-%d %H:%M:%S\"), 55.99],\n",
    "    [\"Product L\", 1012, datetime.strptime(\"2023-07-17\", \"%Y-%m-%d\"), datetime.strptime(\"2023-07-17 10:30:00\", \"%Y-%m-%d %H:%M:%S\"), 64.99],\n",
    "    [\"Product M\", 1013, datetime.strptime(\"2023-07-21\", \"%Y-%m-%d\"), datetime.strptime(\"2023-07-21 12:00:00\", \"%Y-%m-%d %H:%M:%S\"), 74.99],\n",
    "    [\"Product N\", 1014, datetime.strptime(\"2023-07-21\", \"%Y-%m-%d\"), datetime.strptime(\"2023-07-21 14:30:00\", \"%Y-%m-%d %H:%M:%S\"), 24.99],\n",
    "    [\"Product O\", 1015, datetime.strptime(\"2023-07-21\", \"%Y-%m-%d\"), datetime.strptime(\"2023-07-21 16:45:00\", \"%Y-%m-%d %H:%M:%S\"), 39.99],\n",
    "    [\"Product P\", 1016, datetime.strptime(\"2023-07-22\", \"%Y-%m-%d\"), datetime.strptime(\"2023-07-22 10:00:00\", \"%Y-%m-%d %H:%M:%S\"), 54.99],\n",
    "    [\"Product Q\", 1017, datetime.strptime(\"2023-07-22\", \"%Y-%m-%d\"), datetime.strptime(\"2023-07-22 11:30:00\", \"%Y-%m-%d %H:%M:%S\"), 29.99],\n",
    "    [\"Product R\", 1018, datetime.strptime(\"2023-07-23\", \"%Y-%m-%d\"), datetime.strptime(\"2023-07-23 13:30:00\", \"%Y-%m-%d %H:%M:%S\"), 49.99],\n",
    "    [\"Product S\", 1019, datetime.strptime(\"2023-07-23\", \"%Y-%m-%d\"), datetime.strptime(\"2023-07-23 15:15:00\", \"%Y-%m-%d %H:%M:%S\"), 59.99],\n",
    "    [\"Product T\", 1020, datetime.strptime(\"2023-07-24\", \"%Y-%m-%d\"), datetime.strptime(\"2023-07-24 09:30:00\", \"%Y-%m-%d %H:%M:%S\"), 64.99],\n",
    "    [\"Product U\", 1021, datetime.strptime(\"2023-07-24\", \"%Y-%m-%d\"), datetime.strptime(\"2023-07-24 10:45:00\", \"%Y-%m-%d %H:%M:%S\"), 24.99],\n",
    "    [\"Product V\", 1022, datetime.strptime(\"2023-07-24\", \"%Y-%m-%d\"), datetime.strptime(\"2023-07-24 12:15:00\", \"%Y-%m-%d %H:%M:%S\"), 49.99]\n",
    "]\n",
    "\n",
    "# Define the schema\n",
    "schema = StructType([\n",
    "    StructField(\"Product\", StringType(), True),\n",
    "    StructField(\"ID\", IntegerType(), True),\n",
    "    StructField(\"Date\", DateType(), True),\n",
    "    StructField(\"Timestamp\", TimestampType(), True),\n",
    "    StructField(\"Price\", FloatType(), True)\n",
    "])\n",
    "\n",
    "# Create the DataFrame\n",
    "df = spark.createDataFrame(data, schema)"
   ]
  },
  {
   "cell_type": "code",
   "execution_count": 10,
   "metadata": {},
   "outputs": [
    {
     "name": "stdout",
     "output_type": "stream",
     "text": [
      "+---------+----+----------+-------------------+-----+\n",
      "|  Product|  ID|      Date|          Timestamp|Price|\n",
      "+---------+----+----------+-------------------+-----+\n",
      "|Product A|1001|2023-07-20|2023-07-20 10:15:30|29.99|\n",
      "|Product B|1002|2023-07-19|2023-07-19 14:20:45|49.99|\n",
      "|Product C|1003|2023-07-18|2023-07-18 09:30:15|39.99|\n",
      "|Product D|1004|2023-07-17|2023-07-17 14:45:00|19.99|\n",
      "|Product E|1005|2023-07-20|2023-07-20 11:15:30|34.99|\n",
      "|Product F|1006|2023-07-19|2023-07-19 16:00:00|59.99|\n",
      "|Product G|1007|2023-07-18|2023-07-18 12:30:00|24.99|\n",
      "|Product H|1008|2023-07-17|2023-07-17 09:00:00|44.99|\n",
      "|Product I|1009|2023-07-20|2023-07-20 13:15:30|69.99|\n",
      "|Product J|1010|2023-07-19|2023-07-19 15:00:00|49.49|\n",
      "|Product K|1011|2023-07-18|2023-07-18 08:30:15|55.99|\n",
      "|Product L|1012|2023-07-17|2023-07-17 10:30:00|64.99|\n",
      "|Product M|1013|2023-07-21|2023-07-21 12:00:00|74.99|\n",
      "|Product N|1014|2023-07-21|2023-07-21 14:30:00|24.99|\n",
      "|Product O|1015|2023-07-21|2023-07-21 16:45:00|39.99|\n",
      "|Product P|1016|2023-07-22|2023-07-22 10:00:00|54.99|\n",
      "|Product Q|1017|2023-07-22|2023-07-22 11:30:00|29.99|\n",
      "|Product R|1018|2023-07-23|2023-07-23 13:30:00|49.99|\n",
      "|Product S|1019|2023-07-23|2023-07-23 15:15:00|59.99|\n",
      "|Product T|1020|2023-07-24|2023-07-24 09:30:00|64.99|\n",
      "+---------+----+----------+-------------------+-----+\n",
      "only showing top 20 rows\n",
      "\n"
     ]
    }
   ],
   "source": [
    "# Show the DataFrame to confirm\n",
    "df.show()"
   ]
  },
  {
   "cell_type": "code",
   "execution_count": 12,
   "metadata": {},
   "outputs": [],
   "source": [
    "df.createOrReplaceTempView(\"products\")"
   ]
  },
  {
   "cell_type": "code",
   "execution_count": 11,
   "metadata": {},
   "outputs": [],
   "source": [
    "from pyspark.sql import Window"
   ]
  },
  {
   "cell_type": "code",
   "execution_count": 17,
   "metadata": {},
   "outputs": [
    {
     "name": "stdout",
     "output_type": "stream",
     "text": [
      "+---------+----------+-------------------+------------------+\n",
      "|  Product|      Date|          Timestamp| rolling_avg_price|\n",
      "+---------+----------+-------------------+------------------+\n",
      "|Product H|2023-07-17|2023-07-17 09:00:00|  44.9900016784668|\n",
      "|Product L|2023-07-17|2023-07-17 10:30:00|54.989999771118164|\n",
      "|Product D|2023-07-17|2023-07-17 14:45:00|  43.3233331044515|\n",
      "|Product K|2023-07-18|2023-07-18 08:30:15|  55.9900016784668|\n",
      "|Product C|2023-07-18|2023-07-18 09:30:15|  47.9900016784668|\n",
      "|Product G|2023-07-18|2023-07-18 12:30:00| 40.32333437601725|\n",
      "|Product B|2023-07-19|2023-07-19 14:20:45|  49.9900016784668|\n",
      "|Product J|2023-07-19|2023-07-19 15:00:00|  49.7400016784668|\n",
      "|Product F|2023-07-19|2023-07-19 16:00:00| 53.15666834513346|\n",
      "|Product A|2023-07-20|2023-07-20 10:15:30|29.989999771118164|\n",
      "|Product E|2023-07-20|2023-07-20 11:15:30| 32.49000072479248|\n",
      "|Product I|2023-07-20|2023-07-20 13:15:30|44.989999771118164|\n",
      "|Product M|2023-07-21|2023-07-21 12:00:00| 74.98999786376953|\n",
      "|Product N|2023-07-21|2023-07-21 14:30:00| 49.98999881744385|\n",
      "|Product O|2023-07-21|2023-07-21 16:45:00| 46.65666643778483|\n",
      "|Product P|2023-07-22|2023-07-22 10:00:00|  54.9900016784668|\n",
      "|Product Q|2023-07-22|2023-07-22 11:30:00| 42.49000072479248|\n",
      "|Product R|2023-07-23|2023-07-23 13:30:00|  49.9900016784668|\n",
      "|Product S|2023-07-23|2023-07-23 15:15:00|  54.9900016784668|\n",
      "|Product T|2023-07-24|2023-07-24 09:30:00| 64.98999786376953|\n",
      "+---------+----------+-------------------+------------------+\n",
      "only showing top 20 rows\n",
      "\n"
     ]
    }
   ],
   "source": [
    "# 1.\n",
    "\n",
    "res = spark.sql(\"\"\"\n",
    "    SELECT \n",
    "        Product,\n",
    "        Date,\n",
    "        Timestamp,\n",
    "        AVG(Price) OVER(\n",
    "                    PARTITION BY DATE \n",
    "                    ORDER BY Timestamp\n",
    "                    ROWS BETWEEN 2 PRECEDING AND CURRENT ROW\n",
    "                    ) AS rolling_avg_price\n",
    "    FROM products\n",
    "        \"\"\")\n",
    "\n",
    "res.show()"
   ]
  },
  {
   "cell_type": "code",
   "execution_count": 34,
   "metadata": {},
   "outputs": [
    {
     "name": "stdout",
     "output_type": "stream",
     "text": [
      "+---------+----+----------+-------------------+-----+------------------+\n",
      "|  Product|  ID|      Date|          Timestamp|Price| rolling_avg_price|\n",
      "+---------+----+----------+-------------------+-----+------------------+\n",
      "|Product H|1008|2023-07-17|2023-07-17 09:00:00|44.99|  44.9900016784668|\n",
      "|Product L|1012|2023-07-17|2023-07-17 10:30:00|64.99|54.989999771118164|\n",
      "|Product D|1004|2023-07-17|2023-07-17 14:45:00|19.99|  43.3233331044515|\n",
      "|Product K|1011|2023-07-18|2023-07-18 08:30:15|55.99|  55.9900016784668|\n",
      "|Product C|1003|2023-07-18|2023-07-18 09:30:15|39.99|  47.9900016784668|\n",
      "|Product G|1007|2023-07-18|2023-07-18 12:30:00|24.99| 40.32333437601725|\n",
      "|Product B|1002|2023-07-19|2023-07-19 14:20:45|49.99|  49.9900016784668|\n",
      "|Product J|1010|2023-07-19|2023-07-19 15:00:00|49.49|  49.7400016784668|\n",
      "|Product F|1006|2023-07-19|2023-07-19 16:00:00|59.99| 53.15666834513346|\n",
      "|Product A|1001|2023-07-20|2023-07-20 10:15:30|29.99|29.989999771118164|\n",
      "|Product E|1005|2023-07-20|2023-07-20 11:15:30|34.99| 32.49000072479248|\n",
      "|Product I|1009|2023-07-20|2023-07-20 13:15:30|69.99|44.989999771118164|\n",
      "|Product M|1013|2023-07-21|2023-07-21 12:00:00|74.99| 74.98999786376953|\n",
      "|Product N|1014|2023-07-21|2023-07-21 14:30:00|24.99| 49.98999881744385|\n",
      "|Product O|1015|2023-07-21|2023-07-21 16:45:00|39.99| 46.65666643778483|\n",
      "|Product P|1016|2023-07-22|2023-07-22 10:00:00|54.99|  54.9900016784668|\n",
      "|Product Q|1017|2023-07-22|2023-07-22 11:30:00|29.99| 42.49000072479248|\n",
      "|Product R|1018|2023-07-23|2023-07-23 13:30:00|49.99|  49.9900016784668|\n",
      "|Product S|1019|2023-07-23|2023-07-23 15:15:00|59.99|  54.9900016784668|\n",
      "|Product T|1020|2023-07-24|2023-07-24 09:30:00|64.99| 64.98999786376953|\n",
      "+---------+----+----------+-------------------+-----+------------------+\n",
      "only showing top 20 rows\n",
      "\n"
     ]
    }
   ],
   "source": [
    "# 1.\n",
    "\n",
    "window_spec = Window.partitionBy(\"Date\").orderBy(asc(\"Timestamp\")).rowsBetween(-2, 0)\n",
    "\n",
    "res = df.withColumn(\"rolling_avg_price\", avg(\"Price\").over(window_spec))\n",
    "res.show()"
   ]
  },
  {
   "cell_type": "code",
   "execution_count": 37,
   "metadata": {},
   "outputs": [
    {
     "name": "stdout",
     "output_type": "stream",
     "text": [
      "+---------+----------+-------------------+-----+---------+---------+\n",
      "|  Product|      Date|          Timestamp|Price|max_price|     diff|\n",
      "+---------+----------+-------------------+-----+---------+---------+\n",
      "|Product D|2023-07-17|2023-07-17 14:45:00|19.99|    64.99|     45.0|\n",
      "|Product H|2023-07-17|2023-07-17 09:00:00|44.99|    64.99|19.999996|\n",
      "|Product L|2023-07-17|2023-07-17 10:30:00|64.99|    64.99|      0.0|\n",
      "|Product C|2023-07-18|2023-07-18 09:30:15|39.99|    55.99|     16.0|\n",
      "|Product G|2023-07-18|2023-07-18 12:30:00|24.99|    55.99|31.000002|\n",
      "|Product K|2023-07-18|2023-07-18 08:30:15|55.99|    55.99|      0.0|\n",
      "|Product B|2023-07-19|2023-07-19 14:20:45|49.99|    59.99|     10.0|\n",
      "|Product F|2023-07-19|2023-07-19 16:00:00|59.99|    59.99|      0.0|\n",
      "|Product J|2023-07-19|2023-07-19 15:00:00|49.49|    59.99|     10.5|\n",
      "|Product A|2023-07-20|2023-07-20 10:15:30|29.99|    69.99|     40.0|\n",
      "|Product E|2023-07-20|2023-07-20 11:15:30|34.99|    69.99|34.999996|\n",
      "|Product I|2023-07-20|2023-07-20 13:15:30|69.99|    69.99|      0.0|\n",
      "|Product M|2023-07-21|2023-07-21 12:00:00|74.99|    74.99|      0.0|\n",
      "|Product N|2023-07-21|2023-07-21 14:30:00|24.99|    74.99|     50.0|\n",
      "|Product O|2023-07-21|2023-07-21 16:45:00|39.99|    74.99|34.999996|\n",
      "|Product P|2023-07-22|2023-07-22 10:00:00|54.99|    54.99|      0.0|\n",
      "|Product Q|2023-07-22|2023-07-22 11:30:00|29.99|    54.99|25.000002|\n",
      "|Product R|2023-07-23|2023-07-23 13:30:00|49.99|    59.99|     10.0|\n",
      "|Product S|2023-07-23|2023-07-23 15:15:00|59.99|    59.99|      0.0|\n",
      "|Product T|2023-07-24|2023-07-24 09:30:00|64.99|    64.99|      0.0|\n",
      "+---------+----------+-------------------+-----+---------+---------+\n",
      "only showing top 20 rows\n",
      "\n"
     ]
    }
   ],
   "source": [
    "# 2. Find the difference between each product’s price and the maximum price on that date\n",
    "\n",
    "res = spark.sql(\n",
    "    \"\"\"\n",
    "    WITH cte AS (\n",
    "        SELECT\n",
    "            Date,\n",
    "            MAX(Price) AS max_price\n",
    "        FROM products\n",
    "        GROUP BY Date\n",
    "    )\n",
    "    SELECT\n",
    "        p.Product,\n",
    "        p.Date,\n",
    "        p.Timestamp,\n",
    "        p.Price,\n",
    "        c.max_price,\n",
    "        c.max_price - p.Price AS diff\n",
    "    FROM\n",
    "        products p\n",
    "        INNER JOIN \n",
    "        cte c \n",
    "        ON p.Date = c.Date\n",
    "    ORDER BY p.Date ASC\n",
    "    ;\n",
    "    \"\"\"\n",
    ")\n",
    "\n",
    "res.show()"
   ]
  },
  {
   "cell_type": "code",
   "execution_count": 41,
   "metadata": {},
   "outputs": [
    {
     "name": "stdout",
     "output_type": "stream",
     "text": [
      "+---------+----+----------+-------------------+-----+---------+---------+\n",
      "|  Product|  ID|      Date|          Timestamp|Price|max_price|     diff|\n",
      "+---------+----+----------+-------------------+-----+---------+---------+\n",
      "|Product D|1004|2023-07-17|2023-07-17 14:45:00|19.99|    64.99|     45.0|\n",
      "|Product H|1008|2023-07-17|2023-07-17 09:00:00|44.99|    64.99|19.999996|\n",
      "|Product L|1012|2023-07-17|2023-07-17 10:30:00|64.99|    64.99|      0.0|\n",
      "|Product C|1003|2023-07-18|2023-07-18 09:30:15|39.99|    55.99|     16.0|\n",
      "|Product G|1007|2023-07-18|2023-07-18 12:30:00|24.99|    55.99|31.000002|\n",
      "|Product K|1011|2023-07-18|2023-07-18 08:30:15|55.99|    55.99|      0.0|\n",
      "|Product B|1002|2023-07-19|2023-07-19 14:20:45|49.99|    59.99|     10.0|\n",
      "|Product F|1006|2023-07-19|2023-07-19 16:00:00|59.99|    59.99|      0.0|\n",
      "|Product J|1010|2023-07-19|2023-07-19 15:00:00|49.49|    59.99|     10.5|\n",
      "|Product A|1001|2023-07-20|2023-07-20 10:15:30|29.99|    69.99|     40.0|\n",
      "|Product E|1005|2023-07-20|2023-07-20 11:15:30|34.99|    69.99|34.999996|\n",
      "|Product I|1009|2023-07-20|2023-07-20 13:15:30|69.99|    69.99|      0.0|\n",
      "|Product M|1013|2023-07-21|2023-07-21 12:00:00|74.99|    74.99|      0.0|\n",
      "|Product N|1014|2023-07-21|2023-07-21 14:30:00|24.99|    74.99|     50.0|\n",
      "|Product O|1015|2023-07-21|2023-07-21 16:45:00|39.99|    74.99|34.999996|\n",
      "|Product P|1016|2023-07-22|2023-07-22 10:00:00|54.99|    54.99|      0.0|\n",
      "|Product Q|1017|2023-07-22|2023-07-22 11:30:00|29.99|    54.99|25.000002|\n",
      "|Product R|1018|2023-07-23|2023-07-23 13:30:00|49.99|    59.99|     10.0|\n",
      "|Product S|1019|2023-07-23|2023-07-23 15:15:00|59.99|    59.99|      0.0|\n",
      "|Product T|1020|2023-07-24|2023-07-24 09:30:00|64.99|    64.99|      0.0|\n",
      "+---------+----+----------+-------------------+-----+---------+---------+\n",
      "only showing top 20 rows\n",
      "\n"
     ]
    }
   ],
   "source": [
    "# 2.\n",
    "\n",
    "res = spark.sql(\n",
    "    \"\"\"\n",
    "    WITH cte AS (\n",
    "        SELECT\n",
    "            *,\n",
    "            MAX(price) OVER(PARTITION BY Date) AS max_price\n",
    "        FROM products\n",
    "    )\n",
    "    SELECT \n",
    "        *,\n",
    "        max_price - price AS diff\n",
    "    FROM cte;\n",
    "    \"\"\"\n",
    ")\n",
    "\n",
    "res.show()"
   ]
  },
  {
   "cell_type": "code",
   "execution_count": 38,
   "metadata": {},
   "outputs": [
    {
     "name": "stdout",
     "output_type": "stream",
     "text": [
      "+---------+----+----------+-------------------+-----+---------+---------+\n",
      "|  Product|  ID|      Date|          Timestamp|Price|max_price|     diff|\n",
      "+---------+----+----------+-------------------+-----+---------+---------+\n",
      "|Product D|1004|2023-07-17|2023-07-17 14:45:00|19.99|    64.99|     45.0|\n",
      "|Product H|1008|2023-07-17|2023-07-17 09:00:00|44.99|    64.99|19.999996|\n",
      "|Product L|1012|2023-07-17|2023-07-17 10:30:00|64.99|    64.99|      0.0|\n",
      "|Product C|1003|2023-07-18|2023-07-18 09:30:15|39.99|    55.99|     16.0|\n",
      "|Product G|1007|2023-07-18|2023-07-18 12:30:00|24.99|    55.99|31.000002|\n",
      "|Product K|1011|2023-07-18|2023-07-18 08:30:15|55.99|    55.99|      0.0|\n",
      "|Product B|1002|2023-07-19|2023-07-19 14:20:45|49.99|    59.99|     10.0|\n",
      "|Product F|1006|2023-07-19|2023-07-19 16:00:00|59.99|    59.99|      0.0|\n",
      "|Product J|1010|2023-07-19|2023-07-19 15:00:00|49.49|    59.99|     10.5|\n",
      "|Product A|1001|2023-07-20|2023-07-20 10:15:30|29.99|    69.99|     40.0|\n",
      "|Product E|1005|2023-07-20|2023-07-20 11:15:30|34.99|    69.99|34.999996|\n",
      "|Product I|1009|2023-07-20|2023-07-20 13:15:30|69.99|    69.99|      0.0|\n",
      "|Product M|1013|2023-07-21|2023-07-21 12:00:00|74.99|    74.99|      0.0|\n",
      "|Product N|1014|2023-07-21|2023-07-21 14:30:00|24.99|    74.99|     50.0|\n",
      "|Product O|1015|2023-07-21|2023-07-21 16:45:00|39.99|    74.99|34.999996|\n",
      "|Product P|1016|2023-07-22|2023-07-22 10:00:00|54.99|    54.99|      0.0|\n",
      "|Product Q|1017|2023-07-22|2023-07-22 11:30:00|29.99|    54.99|25.000002|\n",
      "|Product R|1018|2023-07-23|2023-07-23 13:30:00|49.99|    59.99|     10.0|\n",
      "|Product S|1019|2023-07-23|2023-07-23 15:15:00|59.99|    59.99|      0.0|\n",
      "|Product T|1020|2023-07-24|2023-07-24 09:30:00|64.99|    64.99|      0.0|\n",
      "+---------+----+----------+-------------------+-----+---------+---------+\n",
      "only showing top 20 rows\n",
      "\n"
     ]
    }
   ],
   "source": [
    "# 2.\n",
    "\n",
    "window_spec = Window.partitionBy(\"Date\")\n",
    "\n",
    "res = df.withColumn(\"max_price\", max(\"Price\").over(window_spec)) \\\n",
    "        .withColumn(\"diff\", col(\"max_price\") - col(\"Price\"))\n",
    "\n",
    "res.show()"
   ]
  },
  {
   "cell_type": "code",
   "execution_count": null,
   "metadata": {},
   "outputs": [],
   "source": [
    "# 3.Calculate cumulative sum and cumulative average of prices per date\n",
    "\n"
   ]
  }
 ],
 "metadata": {
  "kernelspec": {
   "display_name": "Python 3",
   "language": "python",
   "name": "python3"
  },
  "language_info": {
   "codemirror_mode": {
    "name": "ipython",
    "version": 3
   },
   "file_extension": ".py",
   "mimetype": "text/x-python",
   "name": "python",
   "nbconvert_exporter": "python",
   "pygments_lexer": "ipython3",
   "version": "3.11.5"
  }
 },
 "nbformat": 4,
 "nbformat_minor": 2
}
