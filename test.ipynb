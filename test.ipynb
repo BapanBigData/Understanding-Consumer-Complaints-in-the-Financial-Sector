{
 "cells": [
  {
   "cell_type": "code",
   "execution_count": 1,
   "metadata": {},
   "outputs": [],
   "source": [
    "import pyspark\n",
    "from pyspark.sql import SparkSession\n",
    "from pyspark.sql import Row"
   ]
  },
  {
   "cell_type": "code",
   "execution_count": null,
   "metadata": {},
   "outputs": [],
   "source": []
  },
  {
   "cell_type": "code",
   "execution_count": 4,
   "metadata": {},
   "outputs": [],
   "source": [
    "# # Print PySpark version to check if it's correctly installed\n",
    "# print(\"PySpark Version:\", pyspark.__version__)\n",
    "\n",
    "# # Create a Spark session to test Spark functionality\n",
    "# spark = SparkSession.builder.appName(\"Test\").getOrCreate()\n",
    "\n",
    "# # Check if the Spark session was created successfully\n",
    "# print(\"Spark Session created successfully!\")"
   ]
  },
  {
   "cell_type": "code",
   "execution_count": 5,
   "metadata": {},
   "outputs": [],
   "source": [
    "# data = [(\"Alice\", 29), (\"Bob\", 31), (\"Catherine\", 35)]\n",
    "# df = spark.createDataFrame(data, [\"name\", \"age\"])\n",
    "# df.show()"
   ]
  }
 ],
 "metadata": {
  "kernelspec": {
   "display_name": "venv",
   "language": "python",
   "name": "python3"
  },
  "language_info": {
   "codemirror_mode": {
    "name": "ipython",
    "version": 3
   },
   "file_extension": ".py",
   "mimetype": "text/x-python",
   "name": "python",
   "nbconvert_exporter": "python",
   "pygments_lexer": "ipython3",
   "version": "3.11.5"
  }
 },
 "nbformat": 4,
 "nbformat_minor": 2
}
